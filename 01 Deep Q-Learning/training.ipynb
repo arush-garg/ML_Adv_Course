{
 "cells": [
  {
   "cell_type": "code",
   "execution_count": 1,
   "metadata": {},
   "outputs": [],
   "source": [
    "import gymnasium as gym\n",
    "\n",
    "\n",
    "env = gym.make(\"CartPole-v1\")\n",
    "state = env.reset()"
   ]
  },
  {
   "cell_type": "code",
   "execution_count": 2,
   "metadata": {},
   "outputs": [
    {
     "name": "stdout",
     "output_type": "stream",
     "text": [
      "Initial state:  (array([ 0.01126267, -0.02810955,  0.00930572,  0.02807731], dtype=float32), {})\n"
     ]
    }
   ],
   "source": [
    "print(\"Initial state: \", state)"
   ]
  },
  {
   "cell_type": "code",
   "execution_count": 3,
   "metadata": {},
   "outputs": [
    {
     "name": "stderr",
     "output_type": "stream",
     "text": [
      "2025-01-24 18:49:54.744757: I external/local_xla/xla/tsl/cuda/cudart_stub.cc:32] Could not find cuda drivers on your machine, GPU will not be used.\n",
      "2025-01-24 18:49:54.748304: I external/local_xla/xla/tsl/cuda/cudart_stub.cc:32] Could not find cuda drivers on your machine, GPU will not be used.\n",
      "2025-01-24 18:49:54.757526: E external/local_xla/xla/stream_executor/cuda/cuda_fft.cc:477] Unable to register cuFFT factory: Attempting to register factory for plugin cuFFT when one has already been registered\n",
      "WARNING: All log messages before absl::InitializeLog() is called are written to STDERR\n",
      "E0000 00:00:1737744594.772208   38412 cuda_dnn.cc:8310] Unable to register cuDNN factory: Attempting to register factory for plugin cuDNN when one has already been registered\n",
      "E0000 00:00:1737744594.776585   38412 cuda_blas.cc:1418] Unable to register cuBLAS factory: Attempting to register factory for plugin cuBLAS when one has already been registered\n",
      "2025-01-24 18:49:54.794674: I tensorflow/core/platform/cpu_feature_guard.cc:210] This TensorFlow binary is optimized to use available CPU instructions in performance-critical operations.\n",
      "To enable the following instructions: AVX2 FMA, in other operations, rebuild TensorFlow with the appropriate compiler flags.\n"
     ]
    }
   ],
   "source": [
    "import tensorflow as tf\n",
    "from tensorflow.keras import layers\n",
    "\n",
    "# Define the neural network model\n",
    "def create_model(input_shape, num_actions):\n",
    "    model = tf.keras.Sequential([\n",
    "        layers.InputLayer(shape=input_shape),\n",
    "        layers.Dense(128, activation='relu'),\n",
    "        layers.Dense(128, activation='relu'),\n",
    "        layers.Dense(num_actions, activation='linear')  # Outputs Q-values for each action\n",
    "    ])\n",
    "    return model"
   ]
  },
  {
   "cell_type": "code",
   "execution_count": null,
   "metadata": {},
   "outputs": [
    {
     "name": "stderr",
     "output_type": "stream",
     "text": [
      "2025-01-24 18:49:58.523482: E external/local_xla/xla/stream_executor/cuda/cuda_driver.cc:152] failed call to cuInit: INTERNAL: CUDA error: Failed call to cuInit: UNKNOWN ERROR (303)\n"
     ]
    },
    {
     "data": {
      "text/html": [
       "<pre style=\"white-space:pre;overflow-x:auto;line-height:normal;font-family:Menlo,'DejaVu Sans Mono',consolas,'Courier New',monospace\"><span style=\"font-weight: bold\">Model: \"sequential\"</span>\n",
       "</pre>\n"
      ],
      "text/plain": [
       "\u001b[1mModel: \"sequential\"\u001b[0m\n"
      ]
     },
     "metadata": {},
     "output_type": "display_data"
    },
    {
     "data": {
      "text/html": [
       "<pre style=\"white-space:pre;overflow-x:auto;line-height:normal;font-family:Menlo,'DejaVu Sans Mono',consolas,'Courier New',monospace\">┏━━━━━━━━━━━━━━━━━━━━━━━━━━━━━━━━━┳━━━━━━━━━━━━━━━━━━━━━━━━┳━━━━━━━━━━━━━━━┓\n",
       "┃<span style=\"font-weight: bold\"> Layer (type)                    </span>┃<span style=\"font-weight: bold\"> Output Shape           </span>┃<span style=\"font-weight: bold\">       Param # </span>┃\n",
       "┡━━━━━━━━━━━━━━━━━━━━━━━━━━━━━━━━━╇━━━━━━━━━━━━━━━━━━━━━━━━╇━━━━━━━━━━━━━━━┩\n",
       "│ dense (<span style=\"color: #0087ff; text-decoration-color: #0087ff\">Dense</span>)                   │ (<span style=\"color: #00d7ff; text-decoration-color: #00d7ff\">None</span>, <span style=\"color: #00af00; text-decoration-color: #00af00\">128</span>)            │           <span style=\"color: #00af00; text-decoration-color: #00af00\">640</span> │\n",
       "├─────────────────────────────────┼────────────────────────┼───────────────┤\n",
       "│ dense_1 (<span style=\"color: #0087ff; text-decoration-color: #0087ff\">Dense</span>)                 │ (<span style=\"color: #00d7ff; text-decoration-color: #00d7ff\">None</span>, <span style=\"color: #00af00; text-decoration-color: #00af00\">128</span>)            │        <span style=\"color: #00af00; text-decoration-color: #00af00\">16,512</span> │\n",
       "├─────────────────────────────────┼────────────────────────┼───────────────┤\n",
       "│ dense_2 (<span style=\"color: #0087ff; text-decoration-color: #0087ff\">Dense</span>)                 │ (<span style=\"color: #00d7ff; text-decoration-color: #00d7ff\">None</span>, <span style=\"color: #00af00; text-decoration-color: #00af00\">2</span>)              │           <span style=\"color: #00af00; text-decoration-color: #00af00\">258</span> │\n",
       "└─────────────────────────────────┴────────────────────────┴───────────────┘\n",
       "</pre>\n"
      ],
      "text/plain": [
       "┏━━━━━━━━━━━━━━━━━━━━━━━━━━━━━━━━━┳━━━━━━━━━━━━━━━━━━━━━━━━┳━━━━━━━━━━━━━━━┓\n",
       "┃\u001b[1m \u001b[0m\u001b[1mLayer (type)                   \u001b[0m\u001b[1m \u001b[0m┃\u001b[1m \u001b[0m\u001b[1mOutput Shape          \u001b[0m\u001b[1m \u001b[0m┃\u001b[1m \u001b[0m\u001b[1m      Param #\u001b[0m\u001b[1m \u001b[0m┃\n",
       "┡━━━━━━━━━━━━━━━━━━━━━━━━━━━━━━━━━╇━━━━━━━━━━━━━━━━━━━━━━━━╇━━━━━━━━━━━━━━━┩\n",
       "│ dense (\u001b[38;5;33mDense\u001b[0m)                   │ (\u001b[38;5;45mNone\u001b[0m, \u001b[38;5;34m128\u001b[0m)            │           \u001b[38;5;34m640\u001b[0m │\n",
       "├─────────────────────────────────┼────────────────────────┼───────────────┤\n",
       "│ dense_1 (\u001b[38;5;33mDense\u001b[0m)                 │ (\u001b[38;5;45mNone\u001b[0m, \u001b[38;5;34m128\u001b[0m)            │        \u001b[38;5;34m16,512\u001b[0m │\n",
       "├─────────────────────────────────┼────────────────────────┼───────────────┤\n",
       "│ dense_2 (\u001b[38;5;33mDense\u001b[0m)                 │ (\u001b[38;5;45mNone\u001b[0m, \u001b[38;5;34m2\u001b[0m)              │           \u001b[38;5;34m258\u001b[0m │\n",
       "└─────────────────────────────────┴────────────────────────┴───────────────┘\n"
      ]
     },
     "metadata": {},
     "output_type": "display_data"
    },
    {
     "data": {
      "text/html": [
       "<pre style=\"white-space:pre;overflow-x:auto;line-height:normal;font-family:Menlo,'DejaVu Sans Mono',consolas,'Courier New',monospace\"><span style=\"font-weight: bold\"> Total params: </span><span style=\"color: #00af00; text-decoration-color: #00af00\">17,410</span> (68.01 KB)\n",
       "</pre>\n"
      ],
      "text/plain": [
       "\u001b[1m Total params: \u001b[0m\u001b[38;5;34m17,410\u001b[0m (68.01 KB)\n"
      ]
     },
     "metadata": {},
     "output_type": "display_data"
    },
    {
     "data": {
      "text/html": [
       "<pre style=\"white-space:pre;overflow-x:auto;line-height:normal;font-family:Menlo,'DejaVu Sans Mono',consolas,'Courier New',monospace\"><span style=\"font-weight: bold\"> Trainable params: </span><span style=\"color: #00af00; text-decoration-color: #00af00\">17,410</span> (68.01 KB)\n",
       "</pre>\n"
      ],
      "text/plain": [
       "\u001b[1m Trainable params: \u001b[0m\u001b[38;5;34m17,410\u001b[0m (68.01 KB)\n"
      ]
     },
     "metadata": {},
     "output_type": "display_data"
    },
    {
     "data": {
      "text/html": [
       "<pre style=\"white-space:pre;overflow-x:auto;line-height:normal;font-family:Menlo,'DejaVu Sans Mono',consolas,'Courier New',monospace\"><span style=\"font-weight: bold\"> Non-trainable params: </span><span style=\"color: #00af00; text-decoration-color: #00af00\">0</span> (0.00 B)\n",
       "</pre>\n"
      ],
      "text/plain": [
       "\u001b[1m Non-trainable params: \u001b[0m\u001b[38;5;34m0\u001b[0m (0.00 B)\n"
      ]
     },
     "metadata": {},
     "output_type": "display_data"
    }
   ],
   "source": [
    "input_shape = env.observation_space.shape\n",
    "num_actions = env.action_space.n\n",
    "model = create_model(input_shape, num_actions)\n",
    "\n",
    "model.summary()"
   ]
  },
  {
   "cell_type": "code",
   "execution_count": 5,
   "metadata": {},
   "outputs": [
    {
     "name": "stdout",
     "output_type": "stream",
     "text": [
      "Average inference time: 0.052179 seconds\n"
     ]
    }
   ],
   "source": [
    "import time\n",
    "import numpy as np\n",
    "\n",
    "sample_state = np.random.random((1, 4)).astype(np.float32)\n",
    "\n",
    "start_time = time.time()\n",
    "for _ in range(100):\n",
    "    _ = model.predict(sample_state, verbose=0)\n",
    "end_time = time.time()\n",
    "\n",
    "print(f\"Average inference time: {(end_time - start_time) / 100:.6f} seconds\")"
   ]
  },
  {
   "cell_type": "code",
   "execution_count": 6,
   "metadata": {},
   "outputs": [],
   "source": [
    "from collections import deque\n",
    "\n",
    "\n",
    "learning_rate = 0.0002\n",
    "gamma = 0.95  # Discount factor for future rewards\n",
    "epsilon = 1.0  # Initial exploration rate\n",
    "epsilon_min = 0.1  # Final exploration rate\n",
    "epsilon_decay = 0.999\n",
    "batch_size = 32\n",
    "memory_size = 5000\n",
    "num_episodes = 500\n",
    "max_steps_per_episode = 500\n",
    "\n",
    "replay_memory = deque(maxlen=memory_size)\n",
    "target_model = create_model(input_shape, num_actions)\n",
    "target_model.set_weights(model.get_weights())"
   ]
  },
  {
   "cell_type": "code",
   "execution_count": 7,
   "metadata": {},
   "outputs": [],
   "source": [
    "optimizer = tf.keras.optimizers.Adam(learning_rate=learning_rate)\n",
    "model.compile(optimizer=optimizer, loss='mse')\n",
    "\n",
    "#Target model is not compiled because it's weights are not getting updated during training"
   ]
  },
  {
   "cell_type": "code",
   "execution_count": 8,
   "metadata": {},
   "outputs": [],
   "source": [
    "# Epsilon-greedy policy for action selection\n",
    "def choose_action(state, epsilon):\n",
    "    if np.random.rand() < epsilon:\n",
    "        return np.random.choice(num_actions)  # Explore\n",
    "    q_values = model.predict(state[np.newaxis], verbose=0)\n",
    "    return np.argmax(q_values[0])  # Exploit"
   ]
  },
  {
   "cell_type": "code",
   "execution_count": 9,
   "metadata": {},
   "outputs": [],
   "source": [
    "import random\n",
    "\n",
    "# Train the model using a batch of experiences\n",
    "def train_model():\n",
    "    if len(replay_memory) < batch_size:\n",
    "        return  # Wait until enough experiences are stored\n",
    "\n",
    "    batch = random.sample(replay_memory, batch_size)\n",
    "    states, actions, rewards, next_states, dones = map(np.array, zip(*batch))\n",
    "\n",
    "    # Compute target Q-values\n",
    "    next_q_values = target_model.predict(next_states, verbose=0)\n",
    "    max_next_q_values = np.max(next_q_values, axis=1)\n",
    "    target_q_values = rewards + gamma * max_next_q_values * (1 - dones)\n",
    "\n",
    "    # Update the model\n",
    "    q_values = model.predict(states, verbose=0)\n",
    "    for i, action in enumerate(actions):\n",
    "        q_values[i, action] = target_q_values[i]\n",
    "\n",
    "    model.fit(states, q_values, epochs=1, verbose=0)\n"
   ]
  },
  {
   "cell_type": "code",
   "execution_count": null,
   "metadata": {},
   "outputs": [
    {
     "name": "stdout",
     "output_type": "stream",
     "text": [
      "Episode 1: Total Reward = 12.0\n",
      "Episode 2: Total Reward = 13.0\n",
      "Episode 3: Total Reward = 17.0\n",
      "Episode 4: Total Reward = 22.0\n",
      "Episode 5: Total Reward = 31.0\n",
      "Episode 6: Total Reward = 15.0\n",
      "Episode 7: Total Reward = 14.0\n",
      "Episode 8: Total Reward = 10.0\n",
      "Episode 9: Total Reward = 15.0\n",
      "Episode 10: Total Reward = 14.0\n",
      "Episode 11: Total Reward = 14.0\n",
      "Episode 12: Total Reward = 15.0\n",
      "Episode 13: Total Reward = 22.0\n",
      "Episode 14: Total Reward = 22.0\n",
      "Episode 15: Total Reward = 20.0\n",
      "Episode 16: Total Reward = 15.0\n",
      "Episode 17: Total Reward = 25.0\n",
      "Episode 18: Total Reward = 24.0\n",
      "Episode 19: Total Reward = 34.0\n",
      "Episode 20: Total Reward = 11.0\n",
      "Episode 21: Total Reward = 14.0\n",
      "Episode 22: Total Reward = 14.0\n",
      "Episode 23: Total Reward = 15.0\n",
      "Episode 24: Total Reward = 18.0\n",
      "Episode 25: Total Reward = 22.0\n",
      "Episode 26: Total Reward = 17.0\n",
      "Episode 27: Total Reward = 16.0\n",
      "Episode 28: Total Reward = 17.0\n",
      "Episode 29: Total Reward = 21.0\n",
      "Episode 30: Total Reward = 32.0\n",
      "Episode 31: Total Reward = 26.0\n",
      "Episode 32: Total Reward = 27.0\n",
      "Episode 33: Total Reward = 34.0\n",
      "Episode 34: Total Reward = 26.0\n",
      "Episode 35: Total Reward = 17.0\n",
      "Episode 36: Total Reward = 27.0\n",
      "Episode 37: Total Reward = 11.0\n",
      "Episode 38: Total Reward = 34.0\n",
      "Episode 39: Total Reward = 13.0\n",
      "Episode 40: Total Reward = 31.0\n",
      "Episode 41: Total Reward = 11.0\n",
      "Episode 42: Total Reward = 14.0\n",
      "Episode 43: Total Reward = 17.0\n",
      "Episode 44: Total Reward = 21.0\n",
      "Episode 45: Total Reward = 19.0\n",
      "Episode 46: Total Reward = 15.0\n",
      "Episode 47: Total Reward = 25.0\n",
      "Episode 48: Total Reward = 15.0\n",
      "Episode 49: Total Reward = 13.0\n",
      "Episode 50: Total Reward = 15.0\n",
      "Episode 51: Total Reward = 17.0\n",
      "Episode 52: Total Reward = 25.0\n",
      "Episode 53: Total Reward = 15.0\n",
      "Episode 54: Total Reward = 46.0\n",
      "Episode 55: Total Reward = 19.0\n",
      "Episode 56: Total Reward = 24.0\n",
      "Episode 57: Total Reward = 16.0\n",
      "Episode 58: Total Reward = 13.0\n",
      "Episode 59: Total Reward = 17.0\n",
      "Episode 60: Total Reward = 38.0\n",
      "Episode 61: Total Reward = 16.0\n",
      "Episode 62: Total Reward = 23.0\n",
      "Episode 63: Total Reward = 11.0\n",
      "Episode 64: Total Reward = 40.0\n",
      "Episode 65: Total Reward = 24.0\n",
      "Episode 66: Total Reward = 33.0\n",
      "Episode 67: Total Reward = 13.0\n",
      "Episode 68: Total Reward = 24.0\n",
      "Episode 69: Total Reward = 21.0\n",
      "Episode 70: Total Reward = 41.0\n",
      "Episode 71: Total Reward = 35.0\n",
      "Episode 72: Total Reward = 26.0\n",
      "Episode 73: Total Reward = 16.0\n",
      "Episode 74: Total Reward = 14.0\n",
      "Episode 75: Total Reward = 10.0\n",
      "Episode 76: Total Reward = 15.0\n",
      "Episode 77: Total Reward = 26.0\n",
      "Episode 78: Total Reward = 21.0\n",
      "Episode 79: Total Reward = 15.0\n",
      "Episode 80: Total Reward = 21.0\n",
      "Episode 81: Total Reward = 14.0\n",
      "Episode 82: Total Reward = 21.0\n",
      "Episode 83: Total Reward = 16.0\n",
      "Episode 84: Total Reward = 18.0\n",
      "Episode 85: Total Reward = 24.0\n",
      "Episode 86: Total Reward = 42.0\n",
      "Episode 87: Total Reward = 13.0\n",
      "Episode 88: Total Reward = 18.0\n",
      "Episode 89: Total Reward = 38.0\n",
      "Episode 90: Total Reward = 17.0\n",
      "Episode 91: Total Reward = 36.0\n",
      "Episode 92: Total Reward = 34.0\n",
      "Episode 93: Total Reward = 10.0\n",
      "Episode 94: Total Reward = 22.0\n",
      "Episode 95: Total Reward = 47.0\n",
      "Episode 96: Total Reward = 17.0\n",
      "Episode 97: Total Reward = 18.0\n",
      "Episode 98: Total Reward = 11.0\n",
      "Episode 99: Total Reward = 14.0\n",
      "Episode 100: Total Reward = 38.0\n",
      "Episode 101: Total Reward = 10.0\n",
      "Episode 102: Total Reward = 56.0\n",
      "Episode 103: Total Reward = 18.0\n",
      "Episode 104: Total Reward = 15.0\n",
      "Episode 105: Total Reward = 13.0\n",
      "Episode 106: Total Reward = 14.0\n",
      "Episode 107: Total Reward = 19.0\n",
      "Episode 108: Total Reward = 18.0\n",
      "Episode 109: Total Reward = 17.0\n",
      "Episode 110: Total Reward = 17.0\n",
      "Episode 111: Total Reward = 35.0\n",
      "Episode 112: Total Reward = 53.0\n",
      "Episode 113: Total Reward = 38.0\n",
      "Episode 114: Total Reward = 14.0\n",
      "Episode 115: Total Reward = 51.0\n",
      "Episode 116: Total Reward = 19.0\n",
      "Episode 117: Total Reward = 16.0\n",
      "Episode 118: Total Reward = 56.0\n",
      "Episode 119: Total Reward = 32.0\n",
      "Episode 120: Total Reward = 42.0\n",
      "Episode 121: Total Reward = 12.0\n",
      "Episode 122: Total Reward = 48.0\n",
      "Episode 123: Total Reward = 19.0\n",
      "Episode 124: Total Reward = 51.0\n",
      "Episode 125: Total Reward = 25.0\n",
      "Episode 126: Total Reward = 37.0\n",
      "Episode 127: Total Reward = 19.0\n",
      "Episode 128: Total Reward = 17.0\n",
      "Episode 129: Total Reward = 54.0\n",
      "Episode 130: Total Reward = 60.0\n",
      "Episode 131: Total Reward = 61.0\n",
      "Episode 132: Total Reward = 29.0\n",
      "Episode 133: Total Reward = 49.0\n",
      "Episode 134: Total Reward = 16.0\n",
      "Episode 135: Total Reward = 28.0\n",
      "Episode 136: Total Reward = 41.0\n",
      "Episode 137: Total Reward = 100.0\n",
      "Episode 138: Total Reward = 20.0\n",
      "Episode 139: Total Reward = 11.0\n",
      "Episode 140: Total Reward = 32.0\n",
      "Episode 141: Total Reward = 38.0\n"
     ]
    }
   ],
   "source": [
    "# Training loop\n",
    "for episode in range(num_episodes):\n",
    "    state, _ = env.reset()\n",
    "    done = False\n",
    "    total_reward = 0\n",
    "\n",
    "    for step in range(max_steps_per_episode):\n",
    "        action = choose_action(state, epsilon)  # Choose action\n",
    "        next_state, reward, terminated, truncated, _ = env.step(action)\n",
    "        \n",
    "        done = terminated or truncated\n",
    "\n",
    "        # Store the experience\n",
    "        replay_memory.append((state, action, reward, next_state, done))\n",
    "\n",
    "        # Train the model\n",
    "        train_model()\n",
    "\n",
    "        state = next_state\n",
    "        total_reward += reward\n",
    "\n",
    "        if done:\n",
    "            break\n",
    "\n",
    "    # Update epsilon\n",
    "    if epsilon > epsilon_min:\n",
    "        epsilon *= epsilon_decay\n",
    "\n",
    "    # Sync weights with the target model periodically\n",
    "    if episode % 20 == 0:\n",
    "        target_model.set_weights(model.get_weights())\n",
    "\n",
    "    if total_reward >= 400:\n",
    "        model.save(f\"../model/dqn-model-{episode}.keras\")\n",
    "    \n",
    "    print(f\"Episode {episode + 1}: Total Reward = {total_reward}\")\n",
    "\n",
    "\n",
    "env.close()"
   ]
  },
  {
   "cell_type": "code",
   "execution_count": 12,
   "metadata": {},
   "outputs": [],
   "source": [
    "model.save(\"../model/dqn-model.keras\")"
   ]
  }
 ],
 "metadata": {
  "kernelspec": {
   "display_name": "Python 3",
   "language": "python",
   "name": "python3"
  },
  "language_info": {
   "codemirror_mode": {
    "name": "ipython",
    "version": 3
   },
   "file_extension": ".py",
   "mimetype": "text/x-python",
   "name": "python",
   "nbconvert_exporter": "python",
   "pygments_lexer": "ipython3",
   "version": "3.12.1"
  }
 },
 "nbformat": 4,
 "nbformat_minor": 2
}
